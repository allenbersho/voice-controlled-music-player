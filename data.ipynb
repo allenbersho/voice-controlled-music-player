{
 "cells": [
  {
   "cell_type": "code",
   "execution_count": 43,
   "id": "e833c0a9",
   "metadata": {},
   "outputs": [],
   "source": [
    "import speech_recognition as sr\n",
    "import pygame\n",
    "import os\n"
   ]
  },
  {
   "cell_type": "code",
   "execution_count": 44,
   "id": "08c9efeb",
   "metadata": {},
   "outputs": [
    {
     "name": "stdout",
     "output_type": "stream",
     "text": [
      "['Microsoft Sound Mapper - Input', 'Microphone Array (Realtek(R) Au', 'Microsoft Sound Mapper - Output', 'Speakers (Realtek(R) Audio)', 'Primary Sound Capture Driver', 'Microphone Array (Realtek(R) Audio)', 'Primary Sound Driver', 'Speakers (Realtek(R) Audio)', 'Speakers (Realtek(R) Audio)', 'Microphone Array (Realtek(R) Audio)', 'Speakers 1 (Realtek HD Audio output with SST)', 'Speakers 2 (Realtek HD Audio output with SST)', 'PC Speaker (Realtek HD Audio output with SST)', 'Microphone (Realtek HD Audio Mic input)', 'Stereo Mix (Realtek HD Audio Stereo input)', 'Microphone Array (Realtek HD Audio Mic Array input)', 'Headphones (Realtek HD Audio 2nd output)', 'Speakers (Nahimic mirroring Wave Speaker)', 'Headphones ()', 'Headset (@System32\\\\drivers\\\\bthhfenum.sys,#2;%1 Hands-Free%0\\r\\n;(OnePlus Nord Buds 2))', 'Headset (@System32\\\\drivers\\\\bthhfenum.sys,#2;%1 Hands-Free%0\\r\\n;(OnePlus Nord Buds 2))', 'Speakers (Nahimic Wave Speaker)', 'Speakers (Nahimic Easy Surround)', 'Input ()', 'Output (@System32\\\\drivers\\\\bthhfenum.sys,#4;%1 Hands-Free HF Audio%0\\r\\n;(Allen Bersho))', 'Input (@System32\\\\drivers\\\\bthhfenum.sys,#4;%1 Hands-Free HF Audio%0\\r\\n;(Allen Bersho))', 'Headphones ()']\n"
     ]
    }
   ],
   "source": [
    "mic_list = sr.Microphone.list_microphone_names()\n",
    "print(mic_list)\n"
   ]
  },
  {
   "cell_type": "code",
   "execution_count": null,
   "id": "fc2e7a3d",
   "metadata": {},
   "outputs": [
    {
     "name": "stdout",
     "output_type": "stream",
     "text": [
      "Now playing: faded.mp3\n"
     ]
    }
   ],
   "source": [
    "import pygame\n",
    "import time\n",
    "\n",
    "# Initialize pygame mixer\n",
    "pygame.mixer.init()\n",
    "\n",
    "# Path to songs folder\n",
    "music_folder = \"songs\"\n",
    "\n",
    "# Load a song\n",
    "song_name = \"faded.mp3\"  # Change this to any song in your folder\n",
    "song_path = os.path.join(music_folder, song_name)\n",
    "\n",
    "# Load and play\n",
    "pygame.mixer.music.load(song_path)\n",
    "pygame.mixer.music.play()\n",
    "\n",
    "print(f\"Now playing: {song_name}\")\n",
    "\n",
    "# Optional: Wait to let it play for a few seconds before stopping (test purpose)\n",
    "time.sleep(10)\n",
    "pygame.mixer.music.stop()\n"
   ]
  },
  {
   "cell_type": "markdown",
   "id": "5560d6b7",
   "metadata": {},
   "source": [
    "Converting the speech to text "
   ]
  },
  {
   "cell_type": "code",
   "execution_count": 79,
   "id": "555dc689",
   "metadata": {},
   "outputs": [
    {
     "name": "stdout",
     "output_type": "stream",
     "text": [
      "believer.mp3\n",
      "faded.mp3\n"
     ]
    }
   ],
   "source": [
    "import speech_recognition as sr\n",
    "import random\n",
    "\n",
    "recognizer = sr.Recognizer()\n",
    "mic = sr.Microphone()\n",
    "playlist = [file for file in os.listdir(music_folder) if file.endswith(('.mp3', '.wav'))]\n",
    "playlist.sort()\n",
    "\n",
    "for i in playlist:\n",
    "    print(i)\n"
   ]
  },
  {
   "cell_type": "code",
   "execution_count": 70,
   "id": "79bab25f",
   "metadata": {},
   "outputs": [],
   "source": [
    "import random\n",
    "\n",
    "def play(command, current_song):\n",
    "    global current_index\n",
    "    command = command.lower()\n",
    "\n",
    "    if \"play\" in command:\n",
    "        # Try to extract song name\n",
    "        for i, file in enumerate(playlist):\n",
    "            filename = file.lower().replace(\".mp3\", \"\").replace(\".wav\", \"\")\n",
    "            if filename in command:\n",
    "                pygame.mixer.music.load(os.path.join(music_folder, file))\n",
    "                pygame.mixer.music.play()\n",
    "                print(f\"▶️ Playing: {file}\")\n",
    "                current_index = i  # ✅ update index\n",
    "                return file\n",
    "        print(\"⚠️ Song not found.\")\n",
    "\n",
    "    elif \"pause\" in command:\n",
    "        pygame.mixer.music.pause()\n",
    "        print(\"⏸️ Music paused.\")\n",
    "\n",
    "    elif \"resume\" in command or \"continue\" in command:\n",
    "        pygame.mixer.music.unpause()\n",
    "        print(\"▶️ Music resumed.\")\n",
    "\n",
    "    elif \"stop\" in command:\n",
    "        pygame.mixer.music.stop()\n",
    "        print(\"⏹️ Music stopped.\")\n",
    "\n",
    "    elif \"next\" in command:\n",
    "        current_index = (current_index + 1) % len(playlist)\n",
    "        next_song = playlist[current_index]\n",
    "        pygame.mixer.music.load(os.path.join(music_folder, next_song))\n",
    "        pygame.mixer.music.play()\n",
    "        print(f\"⏭️ Next: {next_song}\")\n",
    "        return next_song\n",
    "\n",
    "    elif \"previous\" in command:\n",
    "        current_index = (current_index - 1) % len(playlist)\n",
    "        prev_song = playlist[current_index]\n",
    "        pygame.mixer.music.load(os.path.join(music_folder, prev_song))\n",
    "        pygame.mixer.music.play()\n",
    "        print(f\"⏮️ Previous: {prev_song}\")\n",
    "        return prev_song\n",
    "\n",
    "    elif \"random\" in command or \"shuffle\" in command:\n",
    "        current_index = random.randint(0, len(playlist) - 1)\n",
    "        random_song = playlist[current_index]\n",
    "        pygame.mixer.music.load(os.path.join(music_folder, random_song))\n",
    "        pygame.mixer.music.play()\n",
    "        print(f\"🔀 Shuffling to: {random_song}\")\n",
    "        return random_song\n",
    "\n",
    "    else:\n",
    "        print(\"❓ Command not recognized.\")\n",
    "\n",
    "    return current_song\n"
   ]
  },
  {
   "cell_type": "code",
   "execution_count": 81,
   "id": "dfdb4c40",
   "metadata": {},
   "outputs": [
    {
     "name": "stdout",
     "output_type": "stream",
     "text": [
      "🎤 Listening for your command...\n",
      "🗣️ You said: stop the music\n",
      "⏹️ Music stopped.\n"
     ]
    }
   ],
   "source": [
    "current_song = None\n",
    "\n",
    "with sr.Microphone() as source:\n",
    "    print(\"🎤 Listening for your command...\")\n",
    "    audio = recognizer.listen(source)\n",
    "\n",
    "try:\n",
    "    command = recognizer.recognize_google(audio)\n",
    "    print(\"🗣️ You said:\", command)\n",
    "    current_song = play(command, current_song)\n",
    "\n",
    "except sr.UnknownValueError:\n",
    "    print(\"❌ Could not understand audio.\")\n",
    "except sr.RequestError:\n",
    "    print(\"❌ Could not reach speech service.\")\n"
   ]
  }
 ],
 "metadata": {
  "kernelspec": {
   "display_name": "Python 3",
   "language": "python",
   "name": "python3"
  },
  "language_info": {
   "codemirror_mode": {
    "name": "ipython",
    "version": 3
   },
   "file_extension": ".py",
   "mimetype": "text/x-python",
   "name": "python",
   "nbconvert_exporter": "python",
   "pygments_lexer": "ipython3",
   "version": "3.13.2"
  }
 },
 "nbformat": 4,
 "nbformat_minor": 5
}
